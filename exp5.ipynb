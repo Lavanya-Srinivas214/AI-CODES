{
  "nbformat": 4,
  "nbformat_minor": 0,
  "metadata": {
    "colab": {
      "provenance": [],
      "authorship_tag": "ABX9TyMBBPGLXBE9AfAFCQWt9W/5",
      "include_colab_link": true
    },
    "kernelspec": {
      "name": "python3",
      "display_name": "Python 3"
    },
    "language_info": {
      "name": "python"
    }
  },
  "cells": [
    {
      "cell_type": "markdown",
      "metadata": {
        "id": "view-in-github",
        "colab_type": "text"
      },
      "source": [
        "<a href=\"https://colab.research.google.com/github/Lavanya-Srinivas214/AI-CODES/blob/main/exp5.ipynb\" target=\"_parent\"><img src=\"https://colab.research.google.com/assets/colab-badge.svg\" alt=\"Open In Colab\"/></a>"
      ]
    },
    {
      "cell_type": "code",
      "execution_count": 3,
      "metadata": {
        "colab": {
          "base_uri": "https://localhost:8080/"
        },
        "id": "KKAEmlBoJ8S4",
        "outputId": "28b0661b-fe33-4065-9a97-34fae414a0f7"
      },
      "outputs": [
        {
          "output_type": "stream",
          "name": "stdout",
          "text": [
            "Result from obj_fun1:\n",
            "Best x: 2.0000, Best value: 4.0000\n",
            "Result from obj_fun2:\n",
            "Best x: 2.7679, Best value: 11.0456\n"
          ]
        }
      ],
      "source": [
        "\n",
        "  import random\n",
        "\n",
        "\n",
        "def obj_fun1(x):\n",
        "    return -x**2 + 4 * x\n",
        "\n",
        "\n",
        "def hill1(start, maximum):\n",
        "    current_x = start\n",
        "    current_value = obj_fun1(current_x)\n",
        "\n",
        "    for _ in range(maximum):\n",
        "        next_x = current_x + random.uniform(0, 0.1)\n",
        "        next_value = obj_fun1(next_x)\n",
        "\n",
        "        if next_value > current_value:\n",
        "            current_x = next_x + random.uniform(0, 0.05)\n",
        "            current_value = next_value\n",
        "\n",
        "    return current_x, current_value\n",
        "\n",
        "\n",
        "def obj_fun2(x):\n",
        "    return x * 4\n",
        "\n",
        "\n",
        "def hill2(start, maximum):\n",
        "    current_x = start\n",
        "    current_value = obj_fun2(current_x)\n",
        "\n",
        "    for _ in range(maximum):\n",
        "        next_x = current_x + random.uniform(0, 0.1)\n",
        "        next_value = obj_fun2(next_x)\n",
        "\n",
        "        if next_value > current_value:\n",
        "            current_x = next_x + random.uniform(0, 0.05)\n",
        "            current_value = next_value\n",
        "\n",
        "    return current_x, current_value\n",
        "\n",
        "\n",
        "start = 2\n",
        "maximum = 10\n",
        "\n",
        "\n",
        "result1 = hill1(start, maximum)\n",
        "print(\"Result from obj_fun1:\")\n",
        "print(\"Best x: {:.4f}, Best value: {:.4f}\".format(result1[0], result1[1]))\n",
        "\n",
        "\n",
        "result2 = hill2(start, maximum)\n",
        "print(\"Result from obj_fun2:\")\n",
        "print(\"Best x: {:.4f}, Best value: {:.4f}\".format(result2[0], result2[1]))"
      ]
    }
  ]
}