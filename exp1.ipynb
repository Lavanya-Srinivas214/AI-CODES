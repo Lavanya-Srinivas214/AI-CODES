{
  "nbformat": 4,
  "nbformat_minor": 0,
  "metadata": {
    "colab": {
      "provenance": [],
      "authorship_tag": "ABX9TyPbkC4h8DTvugv3N5StkitX",
      "include_colab_link": true
    },
    "kernelspec": {
      "name": "python3",
      "display_name": "Python 3"
    },
    "language_info": {
      "name": "python"
    }
  },
  "cells": [
    {
      "cell_type": "markdown",
      "metadata": {
        "id": "view-in-github",
        "colab_type": "text"
      },
      "source": [
        "<a href=\"https://colab.research.google.com/github/Lavanya-Srinivas214/AI-CODES/blob/main/exp1.ipynb\" target=\"_parent\"><img src=\"https://colab.research.google.com/assets/colab-badge.svg\" alt=\"Open In Colab\"/></a>"
      ]
    },
    {
      "cell_type": "code",
      "execution_count": 1,
      "metadata": {
        "colab": {
          "base_uri": "https://localhost:8080/"
        },
        "id": "FlVtTx7XIh2F",
        "outputId": "a2b66775-2b1d-4765-d006-a97cdbb8700a"
      },
      "outputs": [
        {
          "output_type": "stream",
          "name": "stdout",
          "text": [
            "Original Array:\n",
            "[15  3  9  1  7 12  6]\n",
            "\n",
            "Sorted Array:\n",
            "[ 1  3  6  7  9 12 15]\n"
          ]
        }
      ],
      "source": [
        "import numpy as np\n",
        "\n",
        "\n",
        "arr = np.array([15, 3, 9, 1, 7, 12, 6])\n",
        "\n",
        "print(\"Original Array:\")\n",
        "print(arr)\n",
        "\n",
        "\n",
        "sorted_arr = np.sort(arr)\n",
        "\n",
        "print(\"\\nSorted Array:\")\n",
        "print(sorted_arr)"
      ]
    }
  ]
}