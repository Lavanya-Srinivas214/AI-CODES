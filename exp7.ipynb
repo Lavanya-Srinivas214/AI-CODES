{
  "nbformat": 4,
  "nbformat_minor": 0,
  "metadata": {
    "colab": {
      "provenance": [],
      "authorship_tag": "ABX9TyMuAuGKbdZ9K/zZq6ipeWGh",
      "include_colab_link": true
    },
    "kernelspec": {
      "name": "python3",
      "display_name": "Python 3"
    },
    "language_info": {
      "name": "python"
    }
  },
  "cells": [
    {
      "cell_type": "markdown",
      "metadata": {
        "id": "view-in-github",
        "colab_type": "text"
      },
      "source": [
        "<a href=\"https://colab.research.google.com/github/Lavanya-Srinivas214/AI-CODES/blob/main/exp7.ipynb\" target=\"_parent\"><img src=\"https://colab.research.google.com/assets/colab-badge.svg\" alt=\"Open In Colab\"/></a>"
      ]
    },
    {
      "cell_type": "code",
      "execution_count": null,
      "metadata": {
        "id": "KKAEmlBoJ8S4"
      },
      "outputs": [],
      "source": [
        "def is_safe(a, row, col, n):\n",
        "    for i in range(row):\n",
        "        if a[i][col] == 1:\n",
        "            return False\n",
        "\n",
        "    for i, j in zip(range(row-1, -1, -1), range(col-1, -1, -1)):\n",
        "        if a[i][j] == 1:\n",
        "            return False\n",
        "\n",
        "    for i, j in zip(range(row-1, -1, -1), range(col+1, n)):\n",
        "        if a[i][j] == 1:\n",
        "            return False\n",
        "\n",
        "    return True\n",
        "\n",
        "\n",
        "def nq(a, row, n):\n",
        "    if row == n:\n",
        "        for r in a:\n",
        "            print(\" \".join(\"1\" if cell == 1 else \"0\" for cell in r))\n",
        "        print(\"\\n\")\n",
        "        return True\n",
        "\n",
        "    nqueen = False\n",
        "    for col in range(n):\n",
        "        if is_safe(a, row, col, n):\n",
        "            a[row][col] = 1\n",
        "            nqueen = nq(a, row+1, n) or nqueen\n",
        "            a[row][col] = 0\n",
        "\n",
        "    return nqueen\n",
        "\n",
        "\n",
        "def print_sol(n):\n",
        "    a = [[0 for _ in range(n)] for _ in range(n)]\n",
        "    if not nq(a, 0, n):\n",
        "        print(\"No solution exists.\")\n",
        "\n",
        "\n",
        "\n",
        "n = int(input(\"Enter Board Size: \"))\n",
        "print_sol(n)\n",
        ""
      ]
    }
  ]
}