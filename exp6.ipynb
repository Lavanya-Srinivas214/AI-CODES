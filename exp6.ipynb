{
  "nbformat": 4,
  "nbformat_minor": 0,
  "metadata": {
    "colab": {
      "provenance": [],
      "authorship_tag": "ABX9TyM5ci71MDL1m/8DmK7fIHkB",
      "include_colab_link": true
    },
    "kernelspec": {
      "name": "python3",
      "display_name": "Python 3"
    },
    "language_info": {
      "name": "python"
    }
  },
  "cells": [
    {
      "cell_type": "markdown",
      "metadata": {
        "id": "view-in-github",
        "colab_type": "text"
      },
      "source": [
        "<a href=\"https://colab.research.google.com/github/Lavanya-Srinivas214/AI-CODES/blob/main/exp6.ipynb\" target=\"_parent\"><img src=\"https://colab.research.google.com/assets/colab-badge.svg\" alt=\"Open In Colab\"/></a>"
      ]
    },
    {
      "cell_type": "code",
      "execution_count": 4,
      "metadata": {
        "colab": {
          "base_uri": "https://localhost:8080/"
        },
        "id": "KKAEmlBoJ8S4",
        "outputId": "f023f2d5-283a-49f2-d95d-3d56494bd8df"
      },
      "outputs": [
        {
          "output_type": "stream",
          "name": "stdout",
          "text": [
            "The optimal value is: 5\n"
          ]
        }
      ],
      "source": [
        "\n",
        "  def alpha_beta(depth, node_index, is_maximizing, values, alpha, beta):\n",
        "\n",
        "    if depth == 3:\n",
        "        return values[node_index]\n",
        "\n",
        "    if is_maximizing:\n",
        "        best = float('-inf')\n",
        "        for i in range(2):\n",
        "            val = alpha_beta(depth + 1, node_index * 2 + i, False, values, alpha, beta)\n",
        "            best = max(best, val)\n",
        "            alpha = max(alpha, best)\n",
        "            if beta <= alpha:\n",
        "                break\n",
        "        return best\n",
        "    else:\n",
        "        best = float('inf')\n",
        "        for i in range(2):\n",
        "            val = alpha_beta(depth + 1, node_index * 2 + i, True, values, alpha, beta)\n",
        "            best = min(best, val)\n",
        "            beta = min(beta, best)\n",
        "            if beta <= alpha:\n",
        "                break\n",
        "        return best\n",
        "\n",
        "\n",
        "values = [3, 5, 6, 9, 1, 2, 0, -1]\n",
        "\n",
        "\n",
        "best_value = alpha_beta(0, 0, True, values, float('-inf'), float('inf'))\n",
        "print(\"The optimal value is:\", best_value)"
      ]
    }
  ]
}