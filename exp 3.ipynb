{
  "nbformat": 4,
  "nbformat_minor": 0,
  "metadata": {
    "colab": {
      "provenance": [],
      "authorship_tag": "ABX9TyOBtYe0zLUX/Y+wTnG/lCZA",
      "include_colab_link": true
    },
    "kernelspec": {
      "name": "python3",
      "display_name": "Python 3"
    },
    "language_info": {
      "name": "python"
    }
  },
  "cells": [
    {
      "cell_type": "markdown",
      "metadata": {
        "id": "view-in-github",
        "colab_type": "text"
      },
      "source": [
        "<a href=\"https://colab.research.google.com/github/Lavanya-Srinivas214/AI-CODES/blob/main/exp%203.ipynb\" target=\"_parent\"><img src=\"https://colab.research.google.com/assets/colab-badge.svg\" alt=\"Open In Colab\"/></a>"
      ]
    },
    {
      "cell_type": "code",
      "execution_count": 3,
      "metadata": {
        "colab": {
          "base_uri": "https://localhost:8080/"
        },
        "id": "FlVtTx7XIh2F",
        "outputId": "fb5369bb-9107-4823-a1a8-ef68ae6b3f1f"
      },
      "outputs": [
        {
          "output_type": "stream",
          "name": "stdout",
          "text": [
            "Least-cost path from A to F is: ['A', 'B', 'E', 'F']\n",
            "Total cost: 4\n"
          ]
        }
      ],
      "source": [
        "import heapq\n",
        "\n",
        "def uniform_cost_search(graph, start, goal):\n",
        "\n",
        "    queue = [(0, start, [start])]\n",
        "    visited = set()\n",
        "\n",
        "    while queue:\n",
        "        cost, node, path = heapq.heappop(queue)\n",
        "\n",
        "        if node == goal:\n",
        "            return (cost, path)\n",
        "\n",
        "        if node not in visited:\n",
        "            visited.add(node)\n",
        "            for neighbor, weight in graph.get(node, []):\n",
        "                if neighbor not in visited:\n",
        "                    heapq.heappush(queue, (cost + weight, neighbor, path + [neighbor]))\n",
        "\n",
        "    return (float('inf'), [])\n",
        "\n",
        "\n",
        "graph = {\n",
        "    'A': [('B', 1), ('C', 4)],\n",
        "    'B': [('D', 6), ('E', 2)],\n",
        "    'C': [('F', 3)],\n",
        "    'D': [],\n",
        "    'E': [('F', 1)],\n",
        "    'F': []\n",
        "}\n",
        "\n",
        "start_node = 'A'\n",
        "goal_node = 'F'\n",
        "\n",
        "cost, path = uniform_cost_search(graph, start_node, goal_node)\n",
        "\n",
        "print(\"Least-cost path from\", start_node, \"to\", goal_node, \"is:\", path)\n",
        "print(\"Total cost:\", cost)"
      ]
    }
  ]
}